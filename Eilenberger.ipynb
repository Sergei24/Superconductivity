{
 "cells": [
  {
   "cell_type": "code",
   "execution_count": 18,
   "metadata": {},
   "outputs": [],
   "source": [
    "%matplotlib inline\n",
    "import numpy as np\n",
    "from scipy import interpolate\n",
    "import matplotlib.pyplot as plt\n",
    "from scipy.integrate import quad\n",
    "from math import pi, tanh, sqrt, cos, cosh, sinh, sin"
   ]
  },
  {
   "cell_type": "code",
   "execution_count": 21,
   "metadata": {},
   "outputs": [],
   "source": [
    "def delta (tau):\n",
    "    \"\"\"\n",
    "    Returning BCS delta normalized on pi*kB*Tc as function of T/Tc\n",
    "    \"\"\"\n",
    "    return 0.56*np.tanh(1.74*np.sqrt(1/tau-1))\n",
    "\n",
    "def Integral(mu, n, xhi, tau, l):\n",
    "    \"\"\"\n",
    "    Calculate function under the integral\n",
    "    Calculate Q at point (xhi, tau, n)\n",
    "    tau - dimeshionless temperature, tau=T/Tc\n",
    "    n - denotes Matsubara frequency\n",
    "    l - denotes L in terms of xsi\n",
    "    xhi - phase\n",
    "    \"\"\"\n",
    "    q1 = 1 + (2*(tau**2)*(2*n+1)**2)/(delta(tau)**2)\n",
    "    q2 = (2*tau*(2*n+1)*np.sqrt((tau**2)*(2*n+1)**2 + delta(tau)**2))/(delta(tau)**2)\n",
    "    phi = (tau*(2*n+1)*l)/mu\n",
    "    Q = np.cos(xhi) + q1*np.cosh(phi) + q2*np.sinh(phi)\n",
    "    return mu/abs(Q)\n",
    "\n",
    "def matsub_sum(xhi, tau, l, limit=50):\n",
    "    \"\"\"\n",
    "    Summation over Matsubara frequencies from 0 to some limit of n frequency\n",
    "    Я пока не оценивал частоту для обрезки, для теста поставил пока 50\n",
    "    \"\"\"\n",
    "    omega_sum = 0\n",
    "    for n in range(limit):\n",
    "        omega_sum += quad(Integral, 0, 1, args=(n, xhi, tau, l))[0]\n",
    "    return omega_sum\n",
    "\n",
    "def J_vs_tau (tau, xhi, l):\n",
    "    \"\"\"\n",
    "    Returns dimentionless J at concrete tau and xhi\n",
    "    \"\"\"\n",
    "    J = tau * sin(xhi) * matsub_sum(xhi, tau, l) \n",
    "    return J"
   ]
  },
  {
   "cell_type": "code",
   "execution_count": 25,
   "metadata": {},
   "outputs": [
    {
     "name": "stderr",
     "output_type": "stream",
     "text": [
      "C:\\ProgramData\\Anaconda3\\lib\\site-packages\\ipykernel_launcher.py:19: RuntimeWarning: overflow encountered in cosh\n",
      "C:\\ProgramData\\Anaconda3\\lib\\site-packages\\ipykernel_launcher.py:19: RuntimeWarning: overflow encountered in sinh\n",
      "C:\\ProgramData\\Anaconda3\\lib\\site-packages\\ipykernel_launcher.py:19: RuntimeWarning: overflow encountered in double_scalars\n"
     ]
    },
    {
     "data": {
      "image/png": "[encoded data removed]",
      "text/plain": [
       "<matplotlib.figure.Figure at 0x1863d37cf8>"
      ]
     },
     "metadata": {},
     "output_type": "display_data"
    }
   ],
   "source": [
    "#-----------------------------\n",
    "# constants\n",
    "h = 1.054e-34 # J/s\n",
    "e = 1.6e-19 # C\n",
    "n = 10e-23 # concentration\n",
    "kf = (3*(pi**2)*n)**(0.33)\n",
    "kb = 1.38e-23 # J/K\n",
    "Tc = 1 # K\n",
    "#------------------------------\n",
    "\n",
    "J_pref = (2*e*(kf**2)*kb*Tc)/(pi*h) # Dimention prefactor of current density\n",
    "\n",
    "N = 1000 # number of points\n",
    "l = 1 # in terms of xsi\n",
    "xhi = pi/2 # just for test I choosed pi/2 as it for sin(xhi) function\n",
    "\n",
    "tau = []\n",
    "Jc = []\n",
    "\n",
    "for t in range(N):\n",
    "    eps = np.finfo(float).eps # eps that I add to avoid zero divison\n",
    "    tau.append(t/N + eps) \n",
    "    J = J_vs_tau(t/N + eps, xhi, l)*J_pref\n",
    "    Jc.append(J)\n",
    "    \n",
    "fig, ax = plt.subplots()\n",
    "ax.plot(tau, Jc)\n",
    "\n",
    "ax.set(xlabel=r'$T/T_{c}$', ylabel=r'$J_{c}$',\n",
    "       title=r'$J_{c}$ versus $T/T_{c}$ from Eilenberger equation')\n",
    "ax.grid()\n",
    "\n",
    "plt.show()"
   ]
  }
 ],
 "metadata": {
  "kernelspec": {
   "display_name": "Python 3",
   "language": "python",
   "name": "python3"
  },
  "language_info": {
   "codemirror_mode": {
    "name": "ipython",
    "version": 3
   },
   "file_extension": ".py",
   "mimetype": "text/x-python",
   "name": "python",
   "nbconvert_exporter": "python",
   "pygments_lexer": "ipython3",
   "version": "3.6.5"
  }
 },
 "nbformat": 4,
 "nbformat_minor": 2
}
